{
  "nbformat": 4,
  "nbformat_minor": 0,
  "metadata": {
    "colab": {
      "name": "Primenumber.ipynb",
      "provenance": []
    },
    "kernelspec": {
      "name": "python3",
      "display_name": "Python 3"
    },
    "language_info": {
      "name": "python"
    }
  },
  "cells": [
    {
      "cell_type": "code",
      "metadata": {
        "colab": {
          "base_uri": "https://localhost:8080/"
        },
        "id": "GywGW9mlZWs0",
        "outputId": "7255ea66-3bec-4cf2-e013-578acaac09c7"
      },
      "source": [
        "n = int(input(\"Enter a number to check if it is a prime number.\"))\n",
        "count = 0\n",
        "for i in range(1, n+1) :\n",
        "    if n % i == 0 :\n",
        "        count += 1\n",
        "if (n == 0) or (n == 1) or (count >=3) :\n",
        "    print(n, \"is not a prime number.\")\n",
        "else:\n",
        "    print(n, \"is a prime number\")"
      ],
      "execution_count": 1,
      "outputs": [
        {
          "output_type": "stream",
          "text": [
            "Enter a number to check if it is a prime number.13\n",
            "13 is a prime number\n"
          ],
          "name": "stdout"
        }
      ]
    }
  ]
}